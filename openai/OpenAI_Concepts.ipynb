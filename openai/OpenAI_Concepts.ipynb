{
 "cells": [
  {
   "cell_type": "markdown",
   "metadata": {},
   "source": [
    "# OpenAI API Concepts with Python Examples\n",
    "This notebook demonstrates key OpenAI API concepts with Python code examples."
   ]
  },
  {
   "cell_type": "markdown",
   "metadata": {},
   "source": [
    "## 1. Setup and Authentication"
   ]
  },
  {
   "cell_type": "code",
   "metadata": {},
   "source": [
    "import openai\n",
    "\n",
    "# Set your API key here\n",
    "openai.api_key = 'YOUR_API_KEY'"
   ],
   "execution_count": null,
   "outputs": []
  },
  {
   "cell_type": "markdown",
   "metadata": {},
   "source": [
    "## 2. List Available Models"
   ]
  },
  {
   "cell_type": "code",
   "metadata": {},
   "source": [
    "models = openai.Model.list()\n",
    "for model in models.data:\n",
    "    print(model.id)"
   ],
   "execution_count": null,
   "outputs": []
  },
  {
   "cell_type": "markdown",
   "metadata": {},
   "source": [
    "## 3. Text Completion Example"
   ]
  },
  {
   "cell_type": "code",
   "metadata": {},
   "source": [
    "response = openai.Completion.create(\n",
    "    model=\"text-davinci-003\",\n",
    "    prompt=\"Translate 'Hello, world!' into French.\",\n",
    "    max_tokens=60\n",
    ")\n",
    "print(response.choices[0].text.strip())"
   ],
   "execution_count": null,
   "outputs": []
  },
  {
   "cell_type": "markdown",
   "metadata": {},
   "source": [
    "## 4. Chat Completion Example"
   ]
  },
  {
   "cell_type": "code",
   "metadata": {},
   "source": [
    "response = openai.ChatCompletion.create(\n",
    "    model=\"gpt-3.5-turbo\",\n",
    "    messages=[\n",
    "        {\"role\": \"system\", \"content\": \"You are a helpful assistant.\"},\n",
    "        {\"role\": \"user\", \"content\": \"Write a short poem about the ocean.\"}\n",
    "    ]\n",
    ")\n",
    "print(response.choices[0].message['content'].strip())"
   ],
   "execution_count": null,
   "outputs": []
  },
  {
   "cell_type": "markdown",
   "metadata": {},
   "source": [
    "## 5. Embeddings Example"
   ]
  },
  {
   "cell_type": "code",
   "metadata": {},
   "source": [
    "embedding = openai.Embedding.create(\n",
    "    model=\"text-embedding-ada-002\",\n",
    "    input=\"OpenAI is creating a new AI model.\"\n",
    ")\n",
    "print(embedding.data[0].embedding[:10], '...')  # show first 10 values"
   ],
   "execution_count": null,
   "outputs": []
  },
  {
   "cell_type": "markdown",
   "metadata": {},
   "source": [
    "## 6. Fine-tuning Example"
   ]
  },
  {
   "cell_type": "code",
   "metadata": {},
   "source": [
    "openai.FineTune.create(\n",
    "    training_file=\"file-abc123\",\n",
    "    model=\"davinci\"\n",
    ")"
   ],
   "execution_count": null,
   "outputs": []
  },
  {
   "cell_type": "markdown",
   "metadata": {},
   "source": [
    "## 7. Moderation Example"
   ]
  },
  {
   "cell_type": "code",
   "metadata": {},
   "source": [
    "response = openai.Moderation.create(\n",
    "    input=\"I want to kill them.\"\n",
    ")\n",
    "print(response.results[0].flagged)"
   ],
   "execution_count": null,
   "outputs": []
  },
  {
   "cell_type": "markdown",
   "metadata": {},
   "source": [
    "## 8. Audio Transcription Example"
   ]
  },
  {
   "cell_type": "code",
   "metadata": {},
   "source": [
    "with open(\"audio.wav\", \"rb\") as audio_file:\n",
    "    transcript = openai.Audio.transcribe(\"whisper-1\", audio_file)\n",
    "    print(transcript['text'])"
   ],
   "execution_count": null,
   "outputs": []
  },
  {
   "cell_type": "markdown",
   "metadata": {},
   "source": [
    "## 9. Image Generation Example"
   ]
  },
  {
   "cell_type": "code",
   "metadata": {},
   "source": [
    "image = openai.Image.create(\n",
    "    prompt=\"A futuristic cityscape at sunset\",\n",
    "    n=1,\n",
    "    size=\"1024x1024\"\n",
    ")\n",
    "print(image['data'][0]['url'])"
   ],
   "execution_count": null,
   "outputs": []
  },
  {
   "cell_type": "markdown",
   "metadata": {},
   "source": [
    "## 10. File Upload Example"
   ]
  },
  {
   "cell_type": "code",
   "metadata": {},
   "source": [
    "file = openai.File.create(\n",
    "    file=open(\"data.jsonl\"),\n",
    "    purpose='answers'\n",
    ")\n",
    "print(file.id)"
   ],
   "execution_count": null,
   "outputs": []
  }
 ],
 "metadata": {
  "kernelspec": {
   "display_name": "Python 3",
   "language": "python",
   "name": "python3"
  },
  "language_info": {
   "name": "python",
   "version": "3.10"
  }
 },
 "nbformat": 4,
 "nbformat_minor": 5
}
