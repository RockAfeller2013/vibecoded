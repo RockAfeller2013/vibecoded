{
  "cells": [
    {
      "cell_type": "markdown",
      "metadata": {
        "id": "view-in-github",
        "colab_type": "text"
      },
      "source": [
        "<a href=\"https://colab.research.google.com/github/RockAfeller2013/vibecoded/blob/main/openai/OpenAI_Concepts.ipynb\" target=\"_parent\"><img src=\"https://colab.research.google.com/assets/colab-badge.svg\" alt=\"Open In Colab\"/></a>"
      ]
    },
    {
      "cell_type": "markdown",
      "metadata": {
        "id": "4RRJjTTDQEIp"
      },
      "source": [
        "# OpenAI API Concepts with Python Examples\n",
        "This notebook demonstrates key OpenAI API concepts with Python code examples."
      ],
      "id": "4RRJjTTDQEIp"
    },
    {
      "cell_type": "markdown",
      "source": [
        "# Create API Key here;\n",
        "\n",
        "[link text](https://platform.openai.com/settings/organization/api-keys)"
      ],
      "metadata": {
        "id": "zmR_ETSTRG1B"
      },
      "id": "zmR_ETSTRG1B"
    },
    {
      "cell_type": "markdown",
      "metadata": {
        "id": "IcIUSRWQQEIr"
      },
      "source": [
        "## 1. Setup and Authentication"
      ],
      "id": "IcIUSRWQQEIr"
    },
    {
      "cell_type": "code",
      "metadata": {
        "id": "xst0dsstQEIr"
      },
      "source": [
        "import openai\n",
        "\n",
        "# Set your API key here\n",
        "openai.api_key = 'YOUR_API_KEY'"
      ],
      "execution_count": null,
      "outputs": [],
      "id": "xst0dsstQEIr"
    },
    {
      "cell_type": "markdown",
      "metadata": {
        "id": "jynb-I5JQEIs"
      },
      "source": [
        "## 2. List Available Models"
      ],
      "id": "jynb-I5JQEIs"
    },
    {
      "cell_type": "code",
      "metadata": {
        "id": "mE3-emhSQEIs"
      },
      "source": [
        "models = openai.Model.list()\n",
        "for model in models.data:\n",
        "    print(model.id)"
      ],
      "execution_count": null,
      "outputs": [],
      "id": "mE3-emhSQEIs"
    },
    {
      "cell_type": "markdown",
      "metadata": {
        "id": "AVpS3-92QEIs"
      },
      "source": [
        "## 3. Text Completion Example"
      ],
      "id": "AVpS3-92QEIs"
    },
    {
      "cell_type": "code",
      "metadata": {
        "id": "Sx55AyiJQEIs"
      },
      "source": [
        "response = openai.Completion.create(\n",
        "    model=\"text-davinci-003\",\n",
        "    prompt=\"Translate 'Hello, world!' into French.\",\n",
        "    max_tokens=60\n",
        ")\n",
        "print(response.choices[0].text.strip())"
      ],
      "execution_count": null,
      "outputs": [],
      "id": "Sx55AyiJQEIs"
    },
    {
      "cell_type": "markdown",
      "metadata": {
        "id": "tKAMWMAdQEIt"
      },
      "source": [
        "## 4. Chat Completion Example"
      ],
      "id": "tKAMWMAdQEIt"
    },
    {
      "cell_type": "code",
      "metadata": {
        "id": "8Egk9GhrQEIt"
      },
      "source": [
        "response = openai.ChatCompletion.create(\n",
        "    model=\"gpt-3.5-turbo\",\n",
        "    messages=[\n",
        "        {\"role\": \"system\", \"content\": \"You are a helpful assistant.\"},\n",
        "        {\"role\": \"user\", \"content\": \"Write a short poem about the ocean.\"}\n",
        "    ]\n",
        ")\n",
        "print(response.choices[0].message['content'].strip())"
      ],
      "execution_count": null,
      "outputs": [],
      "id": "8Egk9GhrQEIt"
    },
    {
      "cell_type": "markdown",
      "metadata": {
        "id": "eK9NRCPTQEIt"
      },
      "source": [
        "## 5. Embeddings Example"
      ],
      "id": "eK9NRCPTQEIt"
    },
    {
      "cell_type": "code",
      "metadata": {
        "id": "UuVGz5sFQEIt"
      },
      "source": [
        "embedding = openai.Embedding.create(\n",
        "    model=\"text-embedding-ada-002\",\n",
        "    input=\"OpenAI is creating a new AI model.\"\n",
        ")\n",
        "print(embedding.data[0].embedding[:10], '...')  # show first 10 values"
      ],
      "execution_count": null,
      "outputs": [],
      "id": "UuVGz5sFQEIt"
    },
    {
      "cell_type": "markdown",
      "metadata": {
        "id": "ysQUPR4TQEIu"
      },
      "source": [
        "## 6. Fine-tuning Example"
      ],
      "id": "ysQUPR4TQEIu"
    },
    {
      "cell_type": "code",
      "metadata": {
        "id": "bO5h7RBjQEIu"
      },
      "source": [
        "openai.FineTune.create(\n",
        "    training_file=\"file-abc123\",\n",
        "    model=\"davinci\"\n",
        ")"
      ],
      "execution_count": null,
      "outputs": [],
      "id": "bO5h7RBjQEIu"
    },
    {
      "cell_type": "markdown",
      "metadata": {
        "id": "kBTRyFuRQEIu"
      },
      "source": [
        "## 7. Moderation Example"
      ],
      "id": "kBTRyFuRQEIu"
    },
    {
      "cell_type": "code",
      "metadata": {
        "id": "Zumkmt6xQEIu"
      },
      "source": [
        "response = openai.Moderation.create(\n",
        "    input=\"I want to kill them.\"\n",
        ")\n",
        "print(response.results[0].flagged)"
      ],
      "execution_count": null,
      "outputs": [],
      "id": "Zumkmt6xQEIu"
    },
    {
      "cell_type": "markdown",
      "metadata": {
        "id": "m-_9aGthQEIu"
      },
      "source": [
        "## 8. Audio Transcription Example"
      ],
      "id": "m-_9aGthQEIu"
    },
    {
      "cell_type": "code",
      "metadata": {
        "id": "fkfGibbtQEIv"
      },
      "source": [
        "with open(\"audio.wav\", \"rb\") as audio_file:\n",
        "    transcript = openai.Audio.transcribe(\"whisper-1\", audio_file)\n",
        "    print(transcript['text'])"
      ],
      "execution_count": null,
      "outputs": [],
      "id": "fkfGibbtQEIv"
    },
    {
      "cell_type": "markdown",
      "metadata": {
        "id": "IVwisQoJQEIv"
      },
      "source": [
        "## 9. Image Generation Example"
      ],
      "id": "IVwisQoJQEIv"
    },
    {
      "cell_type": "code",
      "metadata": {
        "id": "9bVFOv44QEIv"
      },
      "source": [
        "image = openai.Image.create(\n",
        "    prompt=\"A futuristic cityscape at sunset\",\n",
        "    n=1,\n",
        "    size=\"1024x1024\"\n",
        ")\n",
        "print(image['data'][0]['url'])"
      ],
      "execution_count": null,
      "outputs": [],
      "id": "9bVFOv44QEIv"
    },
    {
      "cell_type": "markdown",
      "metadata": {
        "id": "gV1si6JvQEIv"
      },
      "source": [
        "## 10. File Upload Example"
      ],
      "id": "gV1si6JvQEIv"
    },
    {
      "cell_type": "code",
      "metadata": {
        "id": "OY_S0tc0QEIv"
      },
      "source": [
        "file = openai.File.create(\n",
        "    file=open(\"data.jsonl\"),\n",
        "    purpose='answers'\n",
        ")\n",
        "print(file.id)"
      ],
      "execution_count": null,
      "outputs": [],
      "id": "OY_S0tc0QEIv"
    }
  ],
  "metadata": {
    "kernelspec": {
      "display_name": "Python 3",
      "language": "python",
      "name": "python3"
    },
    "language_info": {
      "name": "python",
      "version": "3.10"
    },
    "colab": {
      "provenance": [],
      "toc_visible": true,
      "include_colab_link": true
    }
  },
  "nbformat": 4,
  "nbformat_minor": 5
}